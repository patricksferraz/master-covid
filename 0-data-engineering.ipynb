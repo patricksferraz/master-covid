{
 "cells": [
  {
   "cell_type": "markdown",
   "id": "997076fe-f95e-4fc0-ae5b-a6a02ee6d8ef",
   "metadata": {},
   "source": [
    "# Data Engineering"
   ]
  },
  {
   "cell_type": "code",
   "execution_count": 1,
   "id": "b8ee8c34-9ad8-4514-87e8-cb438970b41a",
   "metadata": {},
   "outputs": [
    {
     "name": "stdout",
     "output_type": "stream",
     "text": [
      "22/07/31 17:37:05 WARN Utils: Your hostname, predator resolves to a loopback address: 127.0.1.1; using 192.168.15.200 instead (on interface enp7s0)\n",
      "22/07/31 17:37:05 WARN Utils: Set SPARK_LOCAL_IP if you need to bind to another address\n"
     ]
    },
    {
     "name": "stderr",
     "output_type": "stream",
     "text": [
      "Setting default log level to \"WARN\".\n",
      "To adjust logging level use sc.setLogLevel(newLevel). For SparkR, use setLogLevel(newLevel).\n"
     ]
    },
    {
     "name": "stdout",
     "output_type": "stream",
     "text": [
      "22/07/31 17:37:05 WARN NativeCodeLoader: Unable to load native-hadoop library for your platform... using builtin-java classes where applicable\n"
     ]
    }
   ],
   "source": [
    "from pyspark.sql import SparkSession\n",
    "from glob import glob\n",
    "\n",
    "from pyspark.sql.types import StructType, IntegerType, FloatType\n",
    "from pyspark.sql.functions import (\n",
    "    to_date, regexp_replace, udf, col, length, when, year, lit\n",
    ")\n",
    "\n",
    "spark = SparkSession.builder \\\n",
    "    .master(\"local\") \\\n",
    "    .appName(\"master-covid\") \\\n",
    "    .getOrCreate()\n",
    "spark.sparkContext.setLogLevel(\"FATAL\")"
   ]
  },
  {
   "cell_type": "code",
   "execution_count": 2,
   "id": "cd57562a",
   "metadata": {},
   "outputs": [],
   "source": [
    "PATH_DATA = 'datas'\n",
    "PATH_RESULT = 'results'"
   ]
  },
  {
   "cell_type": "markdown",
   "id": "7b32be1f",
   "metadata": {},
   "source": [
    "## Ingest"
   ]
  },
  {
   "cell_type": "markdown",
   "id": "f4958ae2-3bbf-457c-962b-8c4f4e84c871",
   "metadata": {},
   "source": [
    "dataset files"
   ]
  },
  {
   "cell_type": "code",
   "execution_count": 3,
   "id": "a65f897f-49d9-4272-bc46-4fb2b7990461",
   "metadata": {},
   "outputs": [
    {
     "data": {
      "text/plain": [
       "['datas/landing/2009.csv.gz',\n",
       " 'datas/landing/2010.csv.gz',\n",
       " 'datas/landing/2011.csv.gz',\n",
       " 'datas/landing/2012.csv.gz',\n",
       " 'datas/landing/2013.csv.gz',\n",
       " 'datas/landing/2014.csv.gz',\n",
       " 'datas/landing/2015.csv.gz',\n",
       " 'datas/landing/2016.csv.gz',\n",
       " 'datas/landing/2017.csv.gz',\n",
       " 'datas/landing/2018.csv.gz',\n",
       " 'datas/landing/2019.csv.gz',\n",
       " 'datas/landing/2020.csv.gz',\n",
       " 'datas/landing/2021.csv.gz']"
      ]
     },
     "execution_count": 3,
     "metadata": {},
     "output_type": "execute_result"
    }
   ],
   "source": [
    "files = glob(f'{PATH_DATA}/landing/20*.csv.gz')\n",
    "files.sort()\n",
    "files"
   ]
  },
  {
   "cell_type": "markdown",
   "id": "04d10854",
   "metadata": {},
   "source": [
    "concat datasets"
   ]
  },
  {
   "cell_type": "code",
   "execution_count": 4,
   "id": "a08ceb47",
   "metadata": {},
   "outputs": [
    {
     "name": "stdout",
     "output_type": "stream",
     "text": [
      "[INFO] Reading file: datas/landing/2009.csv.gz\n",
      "[INFO] Reading file: datas/landing/2010.csv.gz\n",
      "[INFO] Reading file: datas/landing/2011.csv.gz\n",
      "[INFO] Reading file: datas/landing/2012.csv.gz\n",
      "[INFO] Reading file: datas/landing/2013.csv.gz\n",
      "[INFO] Reading file: datas/landing/2014.csv.gz\n",
      "[INFO] Reading file: datas/landing/2015.csv.gz\n",
      "[INFO] Reading file: datas/landing/2016.csv.gz\n",
      "[INFO] Reading file: datas/landing/2017.csv.gz\n",
      "[INFO] Reading file: datas/landing/2018.csv.gz\n",
      "[INFO] Reading file: datas/landing/2019.csv.gz\n",
      "[INFO] Reading file: datas/landing/2020.csv.gz\n",
      "[INFO] Reading file: datas/landing/2021.csv.gz\n"
     ]
    },
    {
     "name": "stderr",
     "output_type": "stream",
     "text": [
      "                                                                                \r"
     ]
    },
    {
     "name": "stdout",
     "output_type": "stream",
     "text": [
      "[INFO] columns: 241, count: 3223130\n"
     ]
    },
    {
     "name": "stderr",
     "output_type": "stream",
     "text": [
      "[Stage 16:====================================================>   (13 + 1) / 14]\r"
     ]
    },
    {
     "name": "stdout",
     "output_type": "stream",
     "text": [
      "[INFO] Saved file: datas/raw.parquet\n"
     ]
    },
    {
     "name": "stderr",
     "output_type": "stream",
     "text": [
      "                                                                                \r"
     ]
    }
   ],
   "source": [
    "df = spark.createDataFrame([], StructType())\n",
    "for file in files:\n",
    "    print(f'[INFO] Reading file: {file}')\n",
    "    aux = spark.read \\\n",
    "        .format('csv') \\\n",
    "        .option('header', 'true') \\\n",
    "        .option('multiline', True) \\\n",
    "        .option('escape', '\\\"') \\\n",
    "        .load(file)\n",
    "    _year = int(file.split('/')[-1].split('.')[0])\n",
    "    aux = aux.withColumn('SOURCE_YEAR', lit(_year))\n",
    "    df = df.unionByName(aux, allowMissingColumns=True)\n",
    "\n",
    "print(f'[INFO] columns: {len(df.columns)}, count: {df.count()}')\n",
    "out = f'{PATH_DATA}/raw.parquet'\n",
    "df.write.mode('overwrite').parquet(out)\n",
    "print(f'[INFO] Saved file: {out}')"
   ]
  },
  {
   "cell_type": "markdown",
   "id": "2277385a",
   "metadata": {},
   "source": [
    "## Transform"
   ]
  },
  {
   "cell_type": "code",
   "execution_count": 60,
   "id": "a9635da6",
   "metadata": {},
   "outputs": [],
   "source": [
    "df = spark.read.parquet(f'{PATH_DATA}/raw.parquet')"
   ]
  },
  {
   "cell_type": "markdown",
   "id": "42286e94",
   "metadata": {},
   "source": [
    "transform date columns"
   ]
  },
  {
   "cell_type": "code",
   "execution_count": 5,
   "id": "7275b014",
   "metadata": {},
   "outputs": [],
   "source": [
    "dates = [\n",
    "    # 2009\n",
    "    'DT_NASC',\n",
    "    'DT_INTERNA',\n",
    "    'DT_NOTIFIC',\n",
    "    'DT_SIN_PRI',\n",
    "    'DT_ANTIVIR',\n",
    "    'DT_COLETA',\n",
    "    'DT_CULTURA',\n",
    "    'DT_ENTUTI',\n",
    "    'DT_HEMAGLU',\n",
    "    'DT_OBITO',\n",
    "    'DT_PCR',\n",
    "    'DT_SAIDUTI',\n",
    "    'DT_RAIOX',\n",
    "    'DT_ENCERRA',\n",
    "    'DT_DIGITA',\n",
    "\n",
    "    # 2010\n",
    "    'DT_IFI',\n",
    "\n",
    "    # 2012\n",
    "    'DT_OUTMET',\n",
    "    'DT_PCR_1',\n",
    "\n",
    "    # 2017\n",
    "    'DT_UT_DOSE',\n",
    "\n",
    "    # 2019\n",
    "    'DT_1_DOSE',\n",
    "    'DT_2_DOSE',\n",
    "    'DT_DOSEUNI',\n",
    "    'DT_VAC_MAE',\n",
    "    'DT_IF',\n",
    "    'DT_EVOLUCA',\n",
    "    'DT_RT_VGM',\n",
    "\n",
    "    # 2020\n",
    "    'DT_CO_SOR',\n",
    "    'DT_RES',\n",
    "    'DT_RES_AN',\n",
    "    'DT_TOMO',\n",
    "    'DT_VGM',\n",
    "\n",
    "    # 2021\n",
    "    'DOSE_1_COV',\n",
    "    'DOSE_2_COV',\n",
    "]"
   ]
  },
  {
   "cell_type": "code",
   "execution_count": 62,
   "id": "5d179674",
   "metadata": {},
   "outputs": [],
   "source": [
    "df = df.withColumns({\n",
    "    date: to_date(\n",
    "        when(length(date) != 10, None).otherwise(col(date)), 'dd/MM/yyyy'\n",
    "    ) for date in dates\n",
    "}).withColumns({\n",
    "    date: when(year(date) > 2021, None) \\\n",
    "        .when(year(date) < 1800, None) \\\n",
    "        .otherwise(col(date)) for date in dates\n",
    "})\n"
   ]
  },
  {
   "cell_type": "markdown",
   "id": "6f3e43db",
   "metadata": {},
   "source": [
    "transform numeric columns"
   ]
  },
  {
   "cell_type": "code",
   "execution_count": 63,
   "id": "d962c197",
   "metadata": {},
   "outputs": [],
   "source": [
    "df = df.withColumn('OBES_IMC', regexp_replace('OBES_IMC', ',', '.')) \\\n",
    "    .withColumn('OBES_IMC', regexp_replace('OBES_IMC', '>', '') \\\n",
    "    .cast(FloatType())\n",
    ")"
   ]
  },
  {
   "cell_type": "markdown",
   "id": "8da68077",
   "metadata": {},
   "source": [
    "transform cod to age"
   ]
  },
  {
   "cell_type": "code",
   "execution_count": 64,
   "id": "62828590",
   "metadata": {},
   "outputs": [],
   "source": [
    "@udf(returnType=IntegerType())\n",
    "def cod2age(cod: int, tp: int = None) -> int:\n",
    "    '''\n",
    "    if tp is None, len(str(cod)) == 4\n",
    "    first digit in cod is tp, where:\n",
    "      1 = hour\n",
    "      2 = days\n",
    "      3 = months\n",
    "      4 = years\n",
    "\n",
    "    if tp is not None, then:\n",
    "      1 = days\n",
    "      2 = months\n",
    "      3 = years\n",
    "    '''\n",
    "    offset = 0\n",
    "    _aux = str(cod)\n",
    "\n",
    "    if tp is None:\n",
    "        tp = int(_aux[0]) - 1\n",
    "        offset = 1\n",
    "\n",
    "    tp = int(tp)\n",
    "    if tp == 1: # 2 = days\n",
    "        return int(_aux[offset:])//365\n",
    "    elif tp == 2: # 3 = months\n",
    "        return int(_aux[offset:])//12\n",
    "    elif tp == 3: # 4 = years\n",
    "        return int(_aux[offset:])\n",
    "    else:\n",
    "        return 0\n",
    "\n",
    "df = df.withColumn('IDADE', cod2age(col('NU_IDADE_N'), col('TP_IDADE'))) \\\n",
    "    .drop('TP_IDADE', 'NU_IDADE_N')"
   ]
  },
  {
   "cell_type": "markdown",
   "id": "6ae188c4",
   "metadata": {},
   "source": [
    "transform sem_not"
   ]
  },
  {
   "cell_type": "code",
   "execution_count": 65,
   "id": "aad6246b",
   "metadata": {},
   "outputs": [],
   "source": [
    "@udf(returnType=IntegerType())\n",
    "def modsn(sem_not: str) -> int:\n",
    "    return int(sem_not)%100\n",
    "\n",
    "df = df.withColumn('SEM_NOT', modsn(col('SEM_NOT')))"
   ]
  },
  {
   "cell_type": "markdown",
   "id": "34bf4188",
   "metadata": {},
   "source": [
    "transfom gender column"
   ]
  },
  {
   "cell_type": "code",
   "execution_count": 66,
   "id": "55f76bd6",
   "metadata": {},
   "outputs": [],
   "source": [
    "df = df.withColumn('CS_SEXO',\n",
    "    when(col('CS_SEXO') == 'M', 1) \\\n",
    "    .when(col('CS_SEXO') == 'F', 2) \\\n",
    "    .when(col('CS_SEXO') == 'I', 9) \\\n",
    "    .otherwise(col('CS_SEXO'))\n",
    "    .cast(IntegerType())\n",
    ")"
   ]
  },
  {
   "cell_type": "markdown",
   "id": "47371b76",
   "metadata": {},
   "source": [
    "change scheme of classes columns"
   ]
  },
  {
   "cell_type": "code",
   "execution_count": 67,
   "id": "b98eb0f0",
   "metadata": {},
   "outputs": [],
   "source": [
    "classes = [\n",
    "    'FEBRE',\n",
    "    'TOSSE',\n",
    "    'CALAFRIO',\n",
    "    'DISPNEIA',\n",
    "    'GARGANTA',\n",
    "    'ARTRALGIA',\n",
    "    'MIALGIA',\n",
    "    'CONJUNTIV',\n",
    "    'CORIZA',\n",
    "    'DIARREIA',\n",
    "    'DESC_RESP',\n",
    "    'SATURACAO',\n",
    "    'VOMITO',\n",
    "    'DOR_ABD',\n",
    "    'FADIGA',\n",
    "    'PERD_OLFT',\n",
    "    'PERD_PALA',\n",
    "\n",
    "    'CARDIOPATI',\n",
    "    'PNEUMOPATI',\n",
    "    'RENAL',\n",
    "    'HEMOGLOBI',\n",
    "    'IMUNODEPRE',\n",
    "    'TABAGISMO',\n",
    "    'METABOLICA',\n",
    "    'HEPATICA',\n",
    "    'NEUROLOGIC',\n",
    "    'OBESIDADE',\n",
    "    'PUERPERA',\n",
    "    'SIND_DOWN',\n",
    "    'HEMATOLOGI',\n",
    "    'ASMA',\n",
    "    'DIABETES',\n",
    "\n",
    "    'CLASSI_FIN',\n",
    "    'EVOLUCAO',\n",
    "]\n",
    "\n",
    "df = df.withColumns({cl: col(cl).cast(IntegerType()) for cl in classes})"
   ]
  },
  {
   "cell_type": "markdown",
   "id": "26a4c206",
   "metadata": {},
   "source": [
    "store trusted files"
   ]
  },
  {
   "cell_type": "code",
   "execution_count": 68,
   "id": "5a8354e1",
   "metadata": {},
   "outputs": [
    {
     "name": "stderr",
     "output_type": "stream",
     "text": [
      "                                                                                \r"
     ]
    }
   ],
   "source": [
    "df.write.mode('overwrite').parquet(f'{PATH_DATA}/trusted.parquet')"
   ]
  },
  {
   "cell_type": "markdown",
   "id": "da140d80",
   "metadata": {},
   "source": [
    "developed by [patricksferraz](https://github.com/patricksferraz)"
   ]
  }
 ],
 "metadata": {
  "kernelspec": {
   "display_name": "Python 3.10.4 ('master-covid-JAo4FUAL-py3.10')",
   "language": "python",
   "name": "python3"
  },
  "language_info": {
   "codemirror_mode": {
    "name": "ipython",
    "version": 3
   },
   "file_extension": ".py",
   "mimetype": "text/x-python",
   "name": "python",
   "nbconvert_exporter": "python",
   "pygments_lexer": "ipython3",
   "version": "3.10.4"
  },
  "vscode": {
   "interpreter": {
    "hash": "e85d59428cd6325ff8314eda8c5d532ecf89d7bfb139cbe602cce9dbf5b3b454"
   }
  }
 },
 "nbformat": 4,
 "nbformat_minor": 5
}
